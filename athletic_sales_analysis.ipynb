{
 "cells": [
  {
   "cell_type": "code",
   "execution_count": 104,
   "metadata": {},
   "outputs": [],
   "source": [
    "# Import Libraries and Dependencies\n",
    "import pandas as pd"
   ]
  },
  {
   "cell_type": "markdown",
   "metadata": {},
   "source": [
    "### 1. Combine and Clean the Data\n",
    "#### Import CSVs"
   ]
  },
  {
   "cell_type": "code",
   "execution_count": 107,
   "metadata": {},
   "outputs": [
    {
     "name": "stdout",
     "output_type": "stream",
     "text": [
      "         retailer  retailer_id invoice_date     region         state  \\\n",
      "0     Foot Locker      1185732       1/1/20  Northeast      New York   \n",
      "1     Foot Locker      1185732       1/1/20  Northeast  Pennsylvania   \n",
      "2     Foot Locker      1185732       1/1/20  Northeast  Pennsylvania   \n",
      "3     Foot Locker      1185732       1/1/20  Northeast      New York   \n",
      "4     Foot Locker      1185732       1/1/20  Northeast  Pennsylvania   \n",
      "...           ...          ...          ...        ...           ...   \n",
      "1292    West Gear      1128299     12/30/20       West    California   \n",
      "1293    West Gear      1128299     12/30/20       West    California   \n",
      "1294       Kohl's      1189833     12/30/20    Midwest     Minnesota   \n",
      "1295       Kohl's      1189833     12/30/20    Midwest     Minnesota   \n",
      "1296    West Gear      1128299     12/30/20       West    California   \n",
      "\n",
      "               city                  product  price_per_unit  units_sold  \\\n",
      "0          New York    Men's Street Footwear              50        1200   \n",
      "1      Philadelphia          Women's Apparel              68          83   \n",
      "2      Philadelphia          Women's Apparel              75         275   \n",
      "3          New York    Men's Street Footwear              34         384   \n",
      "4      Philadelphia          Women's Apparel              53          83   \n",
      "...             ...                      ...             ...         ...   \n",
      "1292  San Francisco          Women's Apparel              72         203   \n",
      "1293  San Francisco          Women's Apparel              80         700   \n",
      "1294    Minneapolis  Women's Street Footwear              41         119   \n",
      "1295    Minneapolis  Women's Street Footwear              45         475   \n",
      "1296  San Francisco          Women's Apparel              62         245   \n",
      "\n",
      "      total_sales  operating_profit sales_method  \n",
      "0          600000         300000.00     In-store  \n",
      "1            5644           2426.92       Online  \n",
      "2          206250          61875.00       Outlet  \n",
      "3           13056           6789.12       Outlet  \n",
      "4            4399           1407.68       Outlet  \n",
      "...           ...               ...          ...  \n",
      "1292        14616           3946.32       Online  \n",
      "1293       560000          84000.00       Outlet  \n",
      "1294         4879           2878.61       Online  \n",
      "1295       213750          96187.50       Outlet  \n",
      "1296        15190           2886.10       Outlet  \n",
      "\n",
      "[1297 rows x 12 columns]\n",
      "         retailer  retailer_id invoice_date     region         state  \\\n",
      "0       West Gear      1128299       1/1/21       West    California   \n",
      "1       West Gear      1128299       1/1/21       West    California   \n",
      "2          Kohl's      1189833       1/1/21    Midwest       Montana   \n",
      "3          Kohl's      1189833       1/1/21    Midwest       Montana   \n",
      "4       West Gear      1128299       1/1/21       West    California   \n",
      "...           ...          ...          ...        ...           ...   \n",
      "8341  Foot Locker      1185732     12/31/21  Northeast  Pennsylvania   \n",
      "8342  Foot Locker      1185732     12/31/21  Northeast  Pennsylvania   \n",
      "8343       Amazon      1185732     12/31/21  Northeast         Maine   \n",
      "8344       Amazon      1185732     12/31/21  Northeast         Maine   \n",
      "8345  Foot Locker      1185732     12/31/21  Northeast  Pennsylvania   \n",
      "\n",
      "               city                  product  price_per_unit  units_sold  \\\n",
      "0     San Francisco  Men's Athletic Footwear              65         750   \n",
      "1     San Francisco  Men's Athletic Footwear              51         233   \n",
      "2          Billings            Men's Apparel              50         275   \n",
      "3          Billings            Men's Apparel              47          77   \n",
      "4     San Francisco  Men's Athletic Footwear              64         225   \n",
      "...             ...                      ...             ...         ...   \n",
      "8341   Philadelphia            Men's Apparel              63          47   \n",
      "8342   Philadelphia            Men's Apparel              46          56   \n",
      "8343       Portland            Men's Apparel              52          36   \n",
      "8344       Portland            Men's Apparel              55         125   \n",
      "8345   Philadelphia            Men's Apparel              70         175   \n",
      "\n",
      "      total_sales  operating_profit sales_method  \n",
      "0          487500         121875.00       Outlet  \n",
      "1           11883           3208.41       Outlet  \n",
      "2          137500          82500.00       Outlet  \n",
      "3            3619           2714.25       Online  \n",
      "4           14400           5184.00       Online  \n",
      "...           ...               ...          ...  \n",
      "8341         2961           1362.06       Online  \n",
      "8342         2576           1004.64       Outlet  \n",
      "8343         1872            692.64       Online  \n",
      "8344        68750          17187.50       Outlet  \n",
      "8345       122500          42875.00       Outlet  \n",
      "\n",
      "[8346 rows x 12 columns]\n"
     ]
    }
   ],
   "source": [
    "# Load the .csv file\n",
    "df_2020 = pd.read_csv('athletic_sales_2020.csv')\n",
    "df_2021 = pd.read_csv('athletic_sales_2021.csv')\n",
    "\n",
    "# Display the contents of the file\n",
    "print(df_2020)\n",
    "print(df_2021)"
   ]
  },
  {
   "cell_type": "code",
   "execution_count": 109,
   "metadata": {},
   "outputs": [],
   "source": [
    "# Read the CSV files into DataFrames.\n",
    "df_2020 = pd.read_csv('athletic_sales_2020.csv')\n",
    "df_2021 = pd.read_csv('athletic_sales_2021.csv')"
   ]
  },
  {
   "cell_type": "code",
   "execution_count": 111,
   "metadata": {},
   "outputs": [
    {
     "name": "stdout",
     "output_type": "stream",
     "text": [
      "         retailer  retailer_id invoice_date     region         state  \\\n",
      "0     Foot Locker      1185732       1/1/20  Northeast      New York   \n",
      "1     Foot Locker      1185732       1/1/20  Northeast  Pennsylvania   \n",
      "2     Foot Locker      1185732       1/1/20  Northeast  Pennsylvania   \n",
      "3     Foot Locker      1185732       1/1/20  Northeast      New York   \n",
      "4     Foot Locker      1185732       1/1/20  Northeast  Pennsylvania   \n",
      "...           ...          ...          ...        ...           ...   \n",
      "1292    West Gear      1128299     12/30/20       West    California   \n",
      "1293    West Gear      1128299     12/30/20       West    California   \n",
      "1294       Kohl's      1189833     12/30/20    Midwest     Minnesota   \n",
      "1295       Kohl's      1189833     12/30/20    Midwest     Minnesota   \n",
      "1296    West Gear      1128299     12/30/20       West    California   \n",
      "\n",
      "               city                  product  price_per_unit  units_sold  \\\n",
      "0          New York    Men's Street Footwear              50        1200   \n",
      "1      Philadelphia          Women's Apparel              68          83   \n",
      "2      Philadelphia          Women's Apparel              75         275   \n",
      "3          New York    Men's Street Footwear              34         384   \n",
      "4      Philadelphia          Women's Apparel              53          83   \n",
      "...             ...                      ...             ...         ...   \n",
      "1292  San Francisco          Women's Apparel              72         203   \n",
      "1293  San Francisco          Women's Apparel              80         700   \n",
      "1294    Minneapolis  Women's Street Footwear              41         119   \n",
      "1295    Minneapolis  Women's Street Footwear              45         475   \n",
      "1296  San Francisco          Women's Apparel              62         245   \n",
      "\n",
      "      total_sales  operating_profit sales_method  \n",
      "0          600000         300000.00     In-store  \n",
      "1            5644           2426.92       Online  \n",
      "2          206250          61875.00       Outlet  \n",
      "3           13056           6789.12       Outlet  \n",
      "4            4399           1407.68       Outlet  \n",
      "...           ...               ...          ...  \n",
      "1292        14616           3946.32       Online  \n",
      "1293       560000          84000.00       Outlet  \n",
      "1294         4879           2878.61       Online  \n",
      "1295       213750          96187.50       Outlet  \n",
      "1296        15190           2886.10       Outlet  \n",
      "\n",
      "[1297 rows x 12 columns]\n"
     ]
    }
   ],
   "source": [
    "# Display the 2020 sales DataFrame\n",
    "print(df_2020)"
   ]
  },
  {
   "cell_type": "code",
   "execution_count": 113,
   "metadata": {},
   "outputs": [
    {
     "name": "stdout",
     "output_type": "stream",
     "text": [
      "         retailer  retailer_id invoice_date     region         state  \\\n",
      "0       West Gear      1128299       1/1/21       West    California   \n",
      "1       West Gear      1128299       1/1/21       West    California   \n",
      "2          Kohl's      1189833       1/1/21    Midwest       Montana   \n",
      "3          Kohl's      1189833       1/1/21    Midwest       Montana   \n",
      "4       West Gear      1128299       1/1/21       West    California   \n",
      "...           ...          ...          ...        ...           ...   \n",
      "8341  Foot Locker      1185732     12/31/21  Northeast  Pennsylvania   \n",
      "8342  Foot Locker      1185732     12/31/21  Northeast  Pennsylvania   \n",
      "8343       Amazon      1185732     12/31/21  Northeast         Maine   \n",
      "8344       Amazon      1185732     12/31/21  Northeast         Maine   \n",
      "8345  Foot Locker      1185732     12/31/21  Northeast  Pennsylvania   \n",
      "\n",
      "               city                  product  price_per_unit  units_sold  \\\n",
      "0     San Francisco  Men's Athletic Footwear              65         750   \n",
      "1     San Francisco  Men's Athletic Footwear              51         233   \n",
      "2          Billings            Men's Apparel              50         275   \n",
      "3          Billings            Men's Apparel              47          77   \n",
      "4     San Francisco  Men's Athletic Footwear              64         225   \n",
      "...             ...                      ...             ...         ...   \n",
      "8341   Philadelphia            Men's Apparel              63          47   \n",
      "8342   Philadelphia            Men's Apparel              46          56   \n",
      "8343       Portland            Men's Apparel              52          36   \n",
      "8344       Portland            Men's Apparel              55         125   \n",
      "8345   Philadelphia            Men's Apparel              70         175   \n",
      "\n",
      "      total_sales  operating_profit sales_method  \n",
      "0          487500         121875.00       Outlet  \n",
      "1           11883           3208.41       Outlet  \n",
      "2          137500          82500.00       Outlet  \n",
      "3            3619           2714.25       Online  \n",
      "4           14400           5184.00       Online  \n",
      "...           ...               ...          ...  \n",
      "8341         2961           1362.06       Online  \n",
      "8342         2576           1004.64       Outlet  \n",
      "8343         1872            692.64       Online  \n",
      "8344        68750          17187.50       Outlet  \n",
      "8345       122500          42875.00       Outlet  \n",
      "\n",
      "[8346 rows x 12 columns]\n"
     ]
    }
   ],
   "source": [
    "# Display the 2021 sales DataFrame\n",
    "print(df_2021)"
   ]
  },
  {
   "cell_type": "markdown",
   "metadata": {},
   "source": [
    "#### Check the data types of each DataFrame"
   ]
  },
  {
   "cell_type": "code",
   "execution_count": 116,
   "metadata": {},
   "outputs": [
    {
     "name": "stdout",
     "output_type": "stream",
     "text": [
      "retailer             object\n",
      "retailer_id           int64\n",
      "invoice_date         object\n",
      "region               object\n",
      "state                object\n",
      "city                 object\n",
      "product              object\n",
      "price_per_unit        int64\n",
      "units_sold            int64\n",
      "total_sales           int64\n",
      "operating_profit    float64\n",
      "sales_method         object\n",
      "dtype: object\n"
     ]
    }
   ],
   "source": [
    "# Check the 2020 sales data types.\n",
    "print(df_2020.dtypes)"
   ]
  },
  {
   "cell_type": "code",
   "execution_count": 118,
   "metadata": {},
   "outputs": [
    {
     "name": "stdout",
     "output_type": "stream",
     "text": [
      "retailer             object\n",
      "retailer_id           int64\n",
      "invoice_date         object\n",
      "region               object\n",
      "state                object\n",
      "city                 object\n",
      "product              object\n",
      "price_per_unit        int64\n",
      "units_sold            int64\n",
      "total_sales           int64\n",
      "operating_profit    float64\n",
      "sales_method         object\n",
      "dtype: object\n"
     ]
    }
   ],
   "source": [
    "# Check the 2021 sales data types.\n",
    "print(df_2021.dtypes)"
   ]
  },
  {
   "cell_type": "markdown",
   "metadata": {},
   "source": [
    "#### Combine the sales data by rows."
   ]
  },
  {
   "cell_type": "code",
   "execution_count": 121,
   "metadata": {},
   "outputs": [
    {
     "name": "stdout",
     "output_type": "stream",
     "text": [
      "retailer            0\n",
      "retailer_id         0\n",
      "invoice_date        0\n",
      "region              0\n",
      "state               0\n",
      "city                0\n",
      "product             0\n",
      "price_per_unit      0\n",
      "units_sold          0\n",
      "total_sales         0\n",
      "operating_profit    0\n",
      "sales_method        0\n",
      "dtype: int64\n"
     ]
    }
   ],
   "source": [
    "# Check if any values are null.\n",
    "combined_df = pd.concat([df_2020, df_2021], ignore_index=True)\n",
    "print(combined_df.isnull().sum())"
   ]
  },
  {
   "cell_type": "code",
   "execution_count": 123,
   "metadata": {},
   "outputs": [
    {
     "name": "stdout",
     "output_type": "stream",
     "text": [
      "      retailer  retailer_id invoice_date     region         state  \\\n",
      "0  Foot Locker      1185732       1/1/20  Northeast      New York   \n",
      "1  Foot Locker      1185732       1/1/20  Northeast  Pennsylvania   \n",
      "2  Foot Locker      1185732       1/1/20  Northeast  Pennsylvania   \n",
      "3  Foot Locker      1185732       1/1/20  Northeast      New York   \n",
      "4  Foot Locker      1185732       1/1/20  Northeast  Pennsylvania   \n",
      "\n",
      "           city                product  price_per_unit  units_sold  \\\n",
      "0      New York  Men's Street Footwear              50        1200   \n",
      "1  Philadelphia        Women's Apparel              68          83   \n",
      "2  Philadelphia        Women's Apparel              75         275   \n",
      "3      New York  Men's Street Footwear              34         384   \n",
      "4  Philadelphia        Women's Apparel              53          83   \n",
      "\n",
      "   total_sales  operating_profit sales_method  \n",
      "0       600000         300000.00     In-store  \n",
      "1         5644           2426.92       Online  \n",
      "2       206250          61875.00       Outlet  \n",
      "3        13056           6789.12       Outlet  \n",
      "4         4399           1407.68       Outlet  \n"
     ]
    }
   ],
   "source": [
    "# Combine the 2020 and 2021 sales DataFrames on the rows and reset the index.\n",
    "combined_df = pd.concat([df_2020, df_2021], ignore_index=True)\n",
    "print(combined_df.head())"
   ]
  },
  {
   "cell_type": "code",
   "execution_count": 125,
   "metadata": {},
   "outputs": [
    {
     "name": "stdout",
     "output_type": "stream",
     "text": [
      "retailer             object\n",
      "retailer_id           int64\n",
      "invoice_date         object\n",
      "region               object\n",
      "state                object\n",
      "city                 object\n",
      "product              object\n",
      "price_per_unit        int64\n",
      "units_sold            int64\n",
      "total_sales           int64\n",
      "operating_profit    float64\n",
      "sales_method         object\n",
      "dtype: object\n"
     ]
    }
   ],
   "source": [
    "# Check the data type of each column\n",
    "print(combined_df.dtypes)"
   ]
  },
  {
   "cell_type": "code",
   "execution_count": 127,
   "metadata": {},
   "outputs": [
    {
     "data": {
      "text/plain": [
       "0      2020-01-01\n",
       "1      2020-01-01\n",
       "2      2020-01-01\n",
       "3      2020-01-01\n",
       "4      2020-01-01\n",
       "          ...    \n",
       "9638   2021-12-31\n",
       "9639   2021-12-31\n",
       "9640   2021-12-31\n",
       "9641   2021-12-31\n",
       "9642   2021-12-31\n",
       "Name: invoice_date, Length: 9643, dtype: datetime64[ns]"
      ]
     },
     "execution_count": 127,
     "metadata": {},
     "output_type": "execute_result"
    }
   ],
   "source": [
    "# Convert the \"invoice_date\" to a datetime datatype\n",
    "pd.to_datetime(combined_df['invoice_date'], format='%m/%d/%y')"
   ]
  },
  {
   "cell_type": "code",
   "execution_count": 129,
   "metadata": {},
   "outputs": [
    {
     "name": "stdout",
     "output_type": "stream",
     "text": [
      "retailer             object\n",
      "retailer_id           int64\n",
      "invoice_date         object\n",
      "region               object\n",
      "state                object\n",
      "city                 object\n",
      "product              object\n",
      "price_per_unit        int64\n",
      "units_sold            int64\n",
      "total_sales           int64\n",
      "operating_profit    float64\n",
      "sales_method         object\n",
      "dtype: object\n"
     ]
    }
   ],
   "source": [
    "# Confirm that the \"invoice_date\" data type has been changed.\n",
    "print(combined_df.dtypes)"
   ]
  },
  {
   "cell_type": "markdown",
   "metadata": {},
   "source": [
    "### 2. Determine which Region Sold the Most Products"
   ]
  },
  {
   "cell_type": "markdown",
   "metadata": {},
   "source": [
    "#### Using `groupby`"
   ]
  },
  {
   "cell_type": "code",
   "execution_count": 133,
   "metadata": {},
   "outputs": [
    {
     "name": "stdout",
     "output_type": "stream",
     "text": [
      "                                    Total_Products_Sold\n",
      "region    state      city                              \n",
      "Northeast New York   New York                    111954\n",
      "South     Texas      Houston                      90322\n",
      "West      California San Francisco                85478\n",
      "                     Los Angeles                  76384\n",
      "Southeast Florida    Miami                        73135\n"
     ]
    }
   ],
   "source": [
    "# Show the number products sold for region, state, and city.\n",
    "grouped_df = combined_df.groupby(['region', 'state', 'city']).agg({'units_sold': 'sum'})\n",
    "# Rename the sum to \"Total_Products_Sold\".\n",
    "grouped_df.rename(columns={'units_sold': 'Total_Products_Sold'}, inplace=True)\n",
    "\n",
    "\n",
    "\n",
    "# Show the top 5 results.\n",
    "top_regions = grouped_df.sort_values(by='Total_Products_Sold', ascending=False).head(5)\n",
    "print(top_regions)"
   ]
  },
  {
   "cell_type": "markdown",
   "metadata": {},
   "source": [
    "#### Using `pivot_table`"
   ]
  },
  {
   "cell_type": "code",
   "execution_count": 136,
   "metadata": {},
   "outputs": [
    {
     "name": "stdout",
     "output_type": "stream",
     "text": [
      "                                    Total_Products_Sold\n",
      "region    state      city                              \n",
      "Northeast New York   New York                    111954\n",
      "South     Texas      Houston                      90322\n",
      "West      California San Francisco                85478\n",
      "                     Los Angeles                  76384\n",
      "Southeast Florida    Miami                        73135\n"
     ]
    }
   ],
   "source": [
    "# Show the number products sold for region, state, and city.\n",
    "pivot_df = pd.pivot_table(combined_df, values='units_sold', index=['region', 'state', 'city'], aggfunc='sum')\n",
    "# Rename the \"units_sold\" column to \"Total_Products_Sold\"\n",
    "pivot_df.rename(columns={'units_sold': 'Total_Products_Sold'}, inplace=True)\n",
    "# Show the top 5 results.\n",
    "top_regions_pivot = pivot_df.sort_values(by='Total_Products_Sold', ascending=False).head(5)\n",
    "print(top_regions_pivot)"
   ]
  },
  {
   "cell_type": "markdown",
   "metadata": {},
   "source": [
    "### 3. Determine which Region had the Most Sales"
   ]
  },
  {
   "cell_type": "markdown",
   "metadata": {},
   "source": [
    "#### Using `groupby`"
   ]
  },
  {
   "cell_type": "code",
   "execution_count": 140,
   "metadata": {},
   "outputs": [
    {
     "name": "stdout",
     "output_type": "stream",
     "text": [
      "                                        Total_Sales\n",
      "region    state          city                      \n",
      "Northeast New York       New York          39801235\n",
      "West      California     San Francisco     33973228\n",
      "Southeast Florida        Miami             31600863\n",
      "          South Carolina Charleston        29285637\n",
      "          Florida        Orlando           27682851\n"
     ]
    }
   ],
   "source": [
    "# Show the total sales for the products sold for each region, state, and city.\n",
    "sales_grouped_df = combined_df.groupby(['region', 'state', 'city']).agg({'total_sales': 'sum'})\n",
    "# Rename the \"total_sales\" column to \"Total Sales\"\n",
    "sales_grouped_df.rename(columns={'total_sales': 'Total_Sales'}, inplace=True)\n",
    "\n",
    "# Show the top 5 results.\n",
    "top_sales_regions = sales_grouped_df.sort_values(by='Total_Sales', ascending=False).head(5)\n",
    "print(top_sales_regions)"
   ]
  },
  {
   "cell_type": "markdown",
   "metadata": {},
   "source": [
    "#### Using `pivot_table`"
   ]
  },
  {
   "cell_type": "code",
   "execution_count": 143,
   "metadata": {},
   "outputs": [
    {
     "name": "stdout",
     "output_type": "stream",
     "text": [
      "                                        Total_Sales\n",
      "region    state          city                      \n",
      "Northeast New York       New York          39801235\n",
      "West      California     San Francisco     33973228\n",
      "Southeast Florida        Miami             31600863\n",
      "          South Carolina Charleston        29285637\n",
      "          Florida        Orlando           27682851\n"
     ]
    }
   ],
   "source": [
    "# Show the total sales for the products sold for each region, state, and city.\n",
    "sales_pivot_df = pd.pivot_table(combined_df, values='total_sales', index=['region', 'state', 'city'], aggfunc='sum')\n",
    "\n",
    "\n",
    "# Optional: Rename the \"total_sales\" column to \"Total Sales\"\n",
    "sales_pivot_df.rename(columns={'total_sales': 'Total_Sales'}, inplace=True)\n",
    "\n",
    "# Show the top 5 results.\n",
    "top_sales_regions_pivot = sales_pivot_df.sort_values(by='Total_Sales', ascending=False).head(5)\n",
    "\n",
    "print(top_sales_regions_pivot)"
   ]
  },
  {
   "cell_type": "markdown",
   "metadata": {},
   "source": [
    "### 4. Determine which Retailer had the Most Sales"
   ]
  },
  {
   "cell_type": "markdown",
   "metadata": {},
   "source": [
    "#### Using `groupby`"
   ]
  },
  {
   "cell_type": "code",
   "execution_count": 147,
   "metadata": {},
   "outputs": [
    {
     "name": "stdout",
     "output_type": "stream",
     "text": [
      "                                                    Total_Sales\n",
      "retailer    region    state          city                      \n",
      "West Gear   West      California     San Francisco     32794405\n",
      "Kohl's      West      California     Los Angeles       25127160\n",
      "Foot Locker Northeast New York       New York          25008568\n",
      "West Gear   West      Washington     Seattle           24862675\n",
      "Foot Locker Southeast South Carolina Charleston        24822280\n"
     ]
    }
   ],
   "source": [
    "# Show the total sales for the products sold for each retailer, region, state, and city.\n",
    "retailer_grouped_df = combined_df.groupby(['retailer', 'region', 'state', 'city']).agg({'total_sales': 'sum'})\n",
    "# Rename the \"total_sales\" column to \"Total Sales\"\n",
    "retailer_grouped_df.rename(columns={'total_sales': 'Total_Sales'}, inplace=True)\n",
    "\n",
    "\n",
    "# Show the top 5 results.\n",
    "top_sales_retailers = retailer_grouped_df.sort_values(by='Total_Sales', ascending=False).head(5)\n",
    "\n",
    "print(top_sales_retailers)"
   ]
  },
  {
   "cell_type": "markdown",
   "metadata": {},
   "source": [
    "#### Using `pivot_table`"
   ]
  },
  {
   "cell_type": "code",
   "execution_count": 150,
   "metadata": {},
   "outputs": [
    {
     "name": "stdout",
     "output_type": "stream",
     "text": [
      "                                                    Total_Sales\n",
      "retailer    region    state          city                      \n",
      "West Gear   West      California     San Francisco     32794405\n",
      "Kohl's      West      California     Los Angeles       25127160\n",
      "Foot Locker Northeast New York       New York          25008568\n",
      "West Gear   West      Washington     Seattle           24862675\n",
      "Foot Locker Southeast South Carolina Charleston        24822280\n"
     ]
    }
   ],
   "source": [
    "# Show the total sales for the products sold for each retailer, region, state, and city.\n",
    "retailer_pivot_df = pd.pivot_table(combined_df, values='total_sales', index=['retailer', 'region', 'state', 'city'], aggfunc='sum')\n",
    "\n",
    "\n",
    "# Optional: Rename the \"total_sales\" column to \"Total Sales\"\n",
    "retailer_pivot_df.rename(columns={'total_sales': 'Total_Sales'}, inplace=True)\n",
    "\n",
    "\n",
    "# Show the top 5 results.\n",
    "top_sales_retailers_pivot = retailer_pivot_df.sort_values(by='Total_Sales', ascending=False).head(5)\n",
    "\n",
    "print(top_sales_retailers_pivot)"
   ]
  },
  {
   "cell_type": "markdown",
   "metadata": {},
   "source": [
    "### 5. Determine which Retailer Sold the Most Women's Athletic Footwear"
   ]
  },
  {
   "cell_type": "code",
   "execution_count": 153,
   "metadata": {},
   "outputs": [
    {
     "name": "stdout",
     "output_type": "stream",
     "text": [
      "         retailer  retailer_id invoice_date     region         state  \\\n",
      "21    Foot Locker      1185732       1/4/20  Northeast      New York   \n",
      "22    Foot Locker      1185732       1/4/20  Northeast      New York   \n",
      "23    Foot Locker      1185732       1/4/20  Northeast      New York   \n",
      "26      West Gear      1128299       1/5/20  Northeast  Pennsylvania   \n",
      "27      West Gear      1128299       1/5/20  Northeast  Pennsylvania   \n",
      "...           ...          ...          ...        ...           ...   \n",
      "9633  Foot Locker      1185732     12/30/21  Northeast  Pennsylvania   \n",
      "9634  Foot Locker      1185732     12/30/21  Northeast  Pennsylvania   \n",
      "9635       Amazon      1185732     12/30/21  Northeast         Maine   \n",
      "9636       Amazon      1185732     12/30/21  Northeast         Maine   \n",
      "9637  Foot Locker      1185732     12/30/21  Northeast  Pennsylvania   \n",
      "\n",
      "              city                    product  price_per_unit  units_sold  \\\n",
      "21        New York  Women's Athletic Footwear              36         281   \n",
      "22        New York  Women's Athletic Footwear              41         247   \n",
      "23        New York  Women's Athletic Footwear              45         850   \n",
      "26    Philadelphia  Women's Athletic Footwear              45         300   \n",
      "27    Philadelphia  Women's Athletic Footwear              34          90   \n",
      "...            ...                        ...             ...         ...   \n",
      "9633  Philadelphia  Women's Athletic Footwear              57          53   \n",
      "9634  Philadelphia  Women's Athletic Footwear              40          53   \n",
      "9635      Portland  Women's Athletic Footwear              42          36   \n",
      "9636      Portland  Women's Athletic Footwear              45         125   \n",
      "9637  Philadelphia  Women's Athletic Footwear              60         175   \n",
      "\n",
      "      total_sales  operating_profit sales_method  \n",
      "21          10116           3742.92       Outlet  \n",
      "22          10127           4658.42       Online  \n",
      "23         382500         133875.00     In-store  \n",
      "26         135000          47250.00       Outlet  \n",
      "27           3060           1254.60       Outlet  \n",
      "...           ...               ...          ...  \n",
      "9633         3021           1601.13       Online  \n",
      "9634         2120            954.00       Outlet  \n",
      "9635         1512            680.40       Online  \n",
      "9636        56250          16875.00       Outlet  \n",
      "9637       105000          42000.00       Outlet  \n",
      "\n",
      "[1604 rows x 12 columns]\n"
     ]
    }
   ],
   "source": [
    "# Filter the sales data to get the women's athletic footwear sales data.\n",
    "womens_footwear_df = combined_df[combined_df['product'].str.contains('Women\\'s Athletic Footwear')]\n",
    "print(womens_footwear_df)"
   ]
  },
  {
   "cell_type": "markdown",
   "metadata": {},
   "source": [
    "#### Using `groupby`"
   ]
  },
  {
   "cell_type": "code",
   "execution_count": 156,
   "metadata": {},
   "outputs": [
    {
     "name": "stdout",
     "output_type": "stream",
     "text": [
      "                                                      Womens_Footwear_Units_Sold\n",
      "retailer      region    state          city                                     \n",
      "West Gear     West      California     San Francisco                       12107\n",
      "Foot Locker   Northeast New York       New York                            10996\n",
      "Kohl's        West      California     Los Angeles                         10826\n",
      "Foot Locker   Southeast South Carolina Charleston                           8814\n",
      "Sports Direct South     Texas          Dallas                               8790\n"
     ]
    }
   ],
   "source": [
    "# Show the total number of women's athletic footwear sold for each retailer, region, state, and city.\n",
    "womens_footwear_grouped_df = womens_footwear_df.groupby(['retailer', 'region', 'state', 'city']).agg({'units_sold': 'sum'})\n",
    "\n",
    "# Rename the \"units_sold\" column to \"Womens_Footwear_Units_Sold\"\n",
    "womens_footwear_grouped_df.rename(columns={'units_sold': 'Womens_Footwear_Units_Sold'}, inplace=True)\n",
    "\n",
    "\n",
    "# Show the top 5 results.\n",
    "top_womens_footwear_retailers = womens_footwear_grouped_df.sort_values(by='Womens_Footwear_Units_Sold', ascending=False).head(5)\n",
    "\n",
    "print(top_womens_footwear_retailers)"
   ]
  },
  {
   "cell_type": "markdown",
   "metadata": {},
   "source": [
    "#### Using `pivot_table`"
   ]
  },
  {
   "cell_type": "code",
   "execution_count": 159,
   "metadata": {},
   "outputs": [
    {
     "name": "stdout",
     "output_type": "stream",
     "text": [
      "                                                      Womens_Footwear_Units_Sold\n",
      "retailer      region    state          city                                     \n",
      "West Gear     West      California     San Francisco                       12107\n",
      "Foot Locker   Northeast New York       New York                            10996\n",
      "Kohl's        West      California     Los Angeles                         10826\n",
      "Foot Locker   Southeast South Carolina Charleston                           8814\n",
      "Sports Direct South     Texas          Dallas                               8790\n"
     ]
    }
   ],
   "source": [
    "# Show the total number of women's athletic footwear sold for each retailer, region, state, and city.\n",
    "womens_footwear_pivot_df = pd.pivot_table(womens_footwear_df, values='units_sold', index=['retailer', 'region', 'state', 'city'], aggfunc='sum')\n",
    "\n",
    "\n",
    "# Rename the \"units_sold\" column to \"Womens_Footwear_Units_Sold\"\n",
    "womens_footwear_pivot_df.rename(columns={'units_sold': 'Womens_Footwear_Units_Sold'}, inplace=True)\n",
    "\n",
    "\n",
    "# Show the top 5 results.\n",
    "top_womens_footwear_retailers_pivot = womens_footwear_pivot_df.sort_values(by='Womens_Footwear_Units_Sold', ascending=False).head(5)\n",
    "print(top_womens_footwear_retailers_pivot)"
   ]
  },
  {
   "cell_type": "markdown",
   "metadata": {},
   "source": [
    "### 6. Determine the Day with the Most Women's Athletic Footwear Sales"
   ]
  },
  {
   "cell_type": "code",
   "execution_count": 162,
   "metadata": {},
   "outputs": [
    {
     "name": "stdout",
     "output_type": "stream",
     "text": [
      "              Total_Sales\n",
      "invoice_date             \n",
      "1/10/21            315859\n",
      "1/11/20            129556\n",
      "1/11/21             66584\n",
      "1/12/21            405693\n",
      "1/13/21            256764\n",
      "...                   ...\n",
      "9/6/21             103419\n",
      "9/7/21             241024\n",
      "9/8/20             726106\n",
      "9/8/21             242278\n",
      "9/9/21             388630\n",
      "\n",
      "[355 rows x 1 columns]\n"
     ]
    }
   ],
   "source": [
    "# Create a pivot table with the 'invoice_date' column is the index, and the \"total_sales\" as the values.\n",
    "daily_sales_pivot_df = pd.pivot_table(womens_footwear_df, values='total_sales', index='invoice_date', aggfunc='sum')\n",
    "\n",
    "\n",
    "# Optional: Rename the \"total_sales\" column to \"Total Sales\"\n",
    "daily_sales_pivot_df.rename(columns={'total_sales': 'Total_Sales'}, inplace=True)\n",
    "\n",
    "\n",
    "# Show the table.\n",
    "print(daily_sales_pivot_df)"
   ]
  },
  {
   "cell_type": "code",
   "execution_count": 164,
   "metadata": {},
   "outputs": [
    {
     "name": "stdout",
     "output_type": "stream",
     "text": [
      "Daily Sales Resampled:\n",
      "              Total_Sales\n",
      "invoice_date             \n",
      "2020-01-04         402743\n",
      "2020-01-05         141801\n",
      "2020-01-06              0\n",
      "2020-01-07              0\n",
      "2020-01-08              0\n",
      "...                   ...\n",
      "2021-12-26              0\n",
      "2021-12-27              0\n",
      "2021-12-28              0\n",
      "2021-12-29              0\n",
      "2021-12-30         167903\n",
      "\n",
      "[727 rows x 1 columns]\n",
      "\n",
      "Daily Sales Resampled Sorted:\n",
      "              Total_Sales\n",
      "invoice_date             \n",
      "2021-07-16        1521825\n",
      "2021-12-16        1473497\n",
      "2021-06-17        1376988\n",
      "2021-08-17        1086294\n",
      "2021-07-23        1021806\n",
      "...                   ...\n",
      "2021-02-27              0\n",
      "2021-02-25              0\n",
      "2020-07-30              0\n",
      "2020-07-31              0\n",
      "2021-01-01              0\n",
      "\n",
      "[727 rows x 1 columns]\n"
     ]
    },
    {
     "name": "stderr",
     "output_type": "stream",
     "text": [
      "/var/folders/07/6wrk2d5d7_ggvw77n55lwq_40000gn/T/ipykernel_1361/2479924662.py:2: UserWarning: Could not infer format, so each element will be parsed individually, falling back to `dateutil`. To ensure parsing is consistent and as-expected, please specify a format.\n",
      "  daily_sales_pivot_df.index = pd.to_datetime(daily_sales_pivot_df.index)\n"
     ]
    }
   ],
   "source": [
    "# Convert the index of daily_sales_pivot_df to a DatetimeIndex\n",
    "daily_sales_pivot_df.index = pd.to_datetime(daily_sales_pivot_df.index)\n",
    "\n",
    "# Resample the pivot table into daily bins, and get the total sales for each day.\n",
    "daily_sales_resampled = daily_sales_pivot_df.resample('D').sum()\n",
    "\n",
    "# Sort the resampled pivot table in descending order on \"Total Sales\".\n",
    "daily_sales_resampled_sorted = daily_sales_resampled.sort_values(by='Total_Sales', ascending=False)\n",
    "\n",
    "print(\"Daily Sales Resampled:\")\n",
    "print(daily_sales_resampled)\n",
    "print(\"\\nDaily Sales Resampled Sorted:\")\n",
    "print(daily_sales_resampled_sorted)"
   ]
  },
  {
   "cell_type": "markdown",
   "metadata": {},
   "source": [
    "### 7.  Determine the Week with the Most Women's Athletic Footwear Sales"
   ]
  },
  {
   "cell_type": "code",
   "execution_count": 167,
   "metadata": {},
   "outputs": [
    {
     "name": "stdout",
     "output_type": "stream",
     "text": [
      "\n",
      "Weekly Sales Resampled:\n",
      "              Total_Sales\n",
      "invoice_date             \n",
      "2020-01-05         544544\n",
      "2020-01-12         129556\n",
      "2020-01-19         173013\n",
      "2020-01-26         576275\n",
      "2020-02-02         566793\n",
      "...                   ...\n",
      "2021-12-05        1741630\n",
      "2021-12-12        2922161\n",
      "2021-12-19        3098970\n",
      "2021-12-26        1719976\n",
      "2022-01-02         167903\n",
      "\n",
      "[105 rows x 1 columns]\n",
      "\n",
      "Weekly Sales Resampled Sorted:\n",
      "              Total_Sales\n",
      "invoice_date             \n",
      "2021-12-19        3098970\n",
      "2021-12-12        2922161\n",
      "2021-07-11        2835078\n",
      "2021-07-18        2801449\n",
      "2021-11-14        2531721\n",
      "...                   ...\n",
      "2020-12-06          62801\n",
      "2020-12-20          61710\n",
      "2020-12-13          58916\n",
      "2020-11-22          53940\n",
      "2020-10-18              0\n",
      "\n",
      "[105 rows x 1 columns]\n"
     ]
    }
   ],
   "source": [
    "# Resample the pivot table into weekly bins, and get the total sales for each week.\n",
    "weekly_sales_resampled = daily_sales_pivot_df.resample('W').sum()\n",
    "\n",
    "daily_sales_pivot_df.index = pd.to_datetime(daily_sales_pivot_df.index)\n",
    "\n",
    "# Sort the resampled pivot table in descending order on \"Total Sales\".\n",
    "weekly_sales_resampled_sorted = weekly_sales_resampled.sort_values(by='Total_Sales', ascending=False)\n",
    "print(\"\\nWeekly Sales Resampled:\")\n",
    "print(weekly_sales_resampled)\n",
    "print(\"\\nWeekly Sales Resampled Sorted:\")\n",
    "print(weekly_sales_resampled_sorted)\n"
   ]
  },
  {
   "cell_type": "code",
   "execution_count": null,
   "metadata": {},
   "outputs": [],
   "source": []
  },
  {
   "cell_type": "code",
   "execution_count": null,
   "metadata": {},
   "outputs": [],
   "source": []
  },
  {
   "cell_type": "code",
   "execution_count": null,
   "metadata": {},
   "outputs": [],
   "source": []
  },
  {
   "cell_type": "code",
   "execution_count": null,
   "metadata": {},
   "outputs": [],
   "source": []
  }
 ],
 "metadata": {
  "kernelspec": {
   "display_name": "Python 3 (ipykernel)",
   "language": "python",
   "name": "python3"
  },
  "language_info": {
   "codemirror_mode": {
    "name": "ipython",
    "version": 3
   },
   "file_extension": ".py",
   "mimetype": "text/x-python",
   "name": "python",
   "nbconvert_exporter": "python",
   "pygments_lexer": "ipython3",
   "version": "3.12.4"
  }
 },
 "nbformat": 4,
 "nbformat_minor": 4
}
